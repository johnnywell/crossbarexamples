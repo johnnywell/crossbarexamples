{
 "cells": [
  {
   "cell_type": "markdown",
   "metadata": {},
   "source": [
    "# wpadlab model notebook\n",
    "\n",
    "This notebook allows the modeling for calibrating weighing pads, as well as generating parameters for the model to use in a component which consumes the weighing pad data.\n",
    "\n",
    "Documentation for the use is inline with the respective function blocks.\n",
    "\n",
    "The general principle is: \n",
    "\n",
    "* You create a data series using the wpadlab Web frontend and store this. The series consists of arrays of sensor readings and a user-defined target value (e.g. '5' --> this represents 5 crates on the weighing platform).\n",
    "* The data series is imported.\n",
    "* The series is plotted.\n",
    "* You define a general model which can be fitted to the data.\n",
    "* The model is automatically fitted to the data.\n",
    "* A second data series is used to check the model predictions.\n",
    "* You can access current sensor values to do live checking.\n",
    "* The parameters for the model are exported.\n"
   ]
  },
  {
   "cell_type": "code",
   "execution_count": 1,
   "metadata": {
    "collapsed": false
   },
   "outputs": [],
   "source": [
    "# Define a helper function to call into Wpad procedures via the Crossbar.io REST bridge\n",
    "\n",
    "#rpc_url = \"https://demo.crossbar.io/call\"\n",
    "rpc_url = \"http://localhost:8080/call\"\n",
    "\n",
    "import requests, json\n",
    "\n",
    "def call(proc, *args, **kwargs):\n",
    "    payload = {\n",
    "        \"procedure\": proc,\n",
    "        \"args\": args,\n",
    "        \"kwargs\": kwargs\n",
    "    }\n",
    "    r = requests.post(rpc_url, data=json.dumps(payload),\n",
    "                      headers={'content-type': 'application/json'})\n",
    "    res = r.json()\n",
    "    return res['args'][0]\n",
    "    "
   ]
  },
  {
   "cell_type": "code",
   "execution_count": 2,
   "metadata": {
    "collapsed": false
   },
   "outputs": [
    {
     "data": {
      "text/plain": [
       "{u'A0': [1, 1, 4, 0, 1, 1, 1, 0, 1, 1, 3, 0, 0, 1, 1],\n",
       " u'A1': [1, 0, 1, 1, 1, 1, 0, 1, 1, 1, 2, 0, 1, 1, 1],\n",
       " u'A2': [1, 2, 1, 1, 1, 1, 0, 0, 1, 0, 3, 0, 1, 1, 1],\n",
       " u'A3': [0, 1, 1, 1, 1, 1, 1, 0, 0, 1, 2, 0, 1, 1, 1],\n",
       " u'A4': [241,\n",
       "  281,\n",
       "  288,\n",
       "  110,\n",
       "  238,\n",
       "  286,\n",
       "  309,\n",
       "  126,\n",
       "  256,\n",
       "  293,\n",
       "  316,\n",
       "  132,\n",
       "  258,\n",
       "  300,\n",
       "  305],\n",
       " u'A5': [230,\n",
       "  372,\n",
       "  443,\n",
       "  54,\n",
       "  253,\n",
       "  376,\n",
       "  474,\n",
       "  58,\n",
       "  274,\n",
       "  373,\n",
       "  437,\n",
       "  58,\n",
       "  238,\n",
       "  381,\n",
       "  440],\n",
       " u'A6': [113,\n",
       "  168,\n",
       "  201,\n",
       "  41,\n",
       "  118,\n",
       "  160,\n",
       "  223,\n",
       "  41,\n",
       "  115,\n",
       "  163,\n",
       "  225,\n",
       "  45,\n",
       "  124,\n",
       "  169,\n",
       "  200],\n",
       " u'T': [1, 2, 3, 0, 1, 2, 3, 0, 1, 2, 3, 0, 1, 2, 3]}"
      ]
     },
     "execution_count": 2,
     "metadata": {},
     "output_type": "execute_result"
    }
   ],
   "source": [
    "# Get a data series previously stored from the Wpad Lab UI: a dict with keys \"A0\" - \"A6\" and \"T\"\n",
    "# is returned with arrays of ints with the analog sensors readings (0-1023) and the user defined\n",
    "# target value (if any was provided)\n",
    "\n",
    "series = call(\"io.crossbar.demo.wpad.objstore.get\", \"series\", 4)\n",
    "series"
   ]
  },
  {
   "cell_type": "code",
   "execution_count": 3,
   "metadata": {
    "collapsed": false
   },
   "outputs": [],
   "source": [
    "# Import libs and activate inline plotting\n",
    "\n",
    "%matplotlib inline\n",
    "import matplotlib.pyplot as plt\n",
    "import numpy as np"
   ]
  },
  {
   "cell_type": "code",
   "execution_count": 4,
   "metadata": {
    "collapsed": false
   },
   "outputs": [],
   "source": [
    "# Define a Wpad data series plotting helper\n",
    "\n",
    "def plot_series(series):\n",
    "    fig, ax = plt.subplots()\n",
    "    ind = np.arange(len(series['T']))\n",
    "    width, colors = 0.3, ['r', 'b', 'g']\n",
    "    for i in range(3):\n",
    "        ax.bar(ind + width * i, series['A{}'.format(i + 4)], width, color=colors[i])"
   ]
  },
  {
   "cell_type": "code",
   "execution_count": 5,
   "metadata": {
    "collapsed": false
   },
   "outputs": [
    {
     "data": {
      "image/png": "[encoded data removed]",
      "text/plain": [
       "<matplotlib.figure.Figure at 0x2b8724dce790>"
      ]
     },
     "metadata": {},
     "output_type": "display_data"
    }
   ],
   "source": [
    "# Plot a Wpad data series: each of the three colors corresponds to one of the analog sensors\n",
    "\n",
    "plot_series(series)"
   ]
  },
  {
   "cell_type": "code",
   "execution_count": 6,
   "metadata": {
    "collapsed": false
   },
   "outputs": [
    {
     "data": {
      "text/plain": [
       "{u'A0': [0, 1, 0, 1, 1, 1, 1, 0],\n",
       " u'A1': [0, 1, 3, 1, 0, 1, 0, 1],\n",
       " u'A2': [1, 0, 1, 1, 2, 1, 0, 0],\n",
       " u'A3': [0, 0, 1, 0, 1, 1, 1, 0],\n",
       " u'A4': [100, 184, 248, 282, 285, 259, 225, 131],\n",
       " u'A5': [49, 169, 330, 424, 429, 337, 232, 57],\n",
       " u'A6': [34, 79, 147, 210, 219, 168, 111, 42],\n",
       " u'T': [0, 1, 2, 3, 3, 2, 1, 0]}"
      ]
     },
     "execution_count": 6,
     "metadata": {},
     "output_type": "execute_result"
    }
   ],
   "source": [
    "# Load a second data series\n",
    "\n",
    "series2 = call(\"io.crossbar.demo.wpad.objstore.get\", \"series\", 3)\n",
    "series2"
   ]
  },
  {
   "cell_type": "code",
   "execution_count": 7,
   "metadata": {
    "collapsed": false
   },
   "outputs": [
    {
     "data": {
      "image/png": "[encoded data removed]",
      "text/plain": [
       "<matplotlib.figure.Figure at 0x2b87250cb950>"
      ]
     },
     "metadata": {},
     "output_type": "display_data"
    }
   ],
   "source": [
    "plot_series(series2)"
   ]
  },
  {
   "cell_type": "code",
   "execution_count": 8,
   "metadata": {
    "collapsed": false
   },
   "outputs": [
    {
     "data": {
      "text/plain": [
       "LogisticRegression(C=1.0, class_weight=None, dual=False, fit_intercept=True,\n",
       "          intercept_scaling=1, penalty='l2', random_state=None, tol=0.0001)"
      ]
     },
     "execution_count": 8,
     "metadata": {},
     "output_type": "execute_result"
    }
   ],
   "source": [
    "# Fit a logit model to the first data series\n",
    "\n",
    "from sklearn import linear_model\n",
    "\n",
    "X = np.matrix([series['A4'], series['A5'], series['A6']]).transpose()\n",
    "y = series['T']\n",
    "\n",
    "clf = linear_model.LogisticRegression(C=1.)\n",
    "clf.fit(X, y)"
   ]
  },
  {
   "cell_type": "code",
   "execution_count": 9,
   "metadata": {
    "collapsed": false
   },
   "outputs": [
    {
     "data": {
      "text/plain": [
       "0.125"
      ]
     },
     "execution_count": 9,
     "metadata": {},
     "output_type": "execute_result"
    }
   ],
   "source": [
    "# Check prediction error on second data series\n",
    "\n",
    "from sklearn import metrics\n",
    "\n",
    "X2 = np.matrix([series2['A4'], series2['A5'], series2['A6']]).transpose()\n",
    "y2 = series2['T']\n",
    "\n",
    "pred = clf.predict(X2)\n",
    "s = metrics.mean_absolute_error(y2, pred)\n",
    "s"
   ]
  },
  {
   "cell_type": "code",
   "execution_count": 10,
   "metadata": {
    "collapsed": false
   },
   "outputs": [
    {
     "data": {
      "text/plain": [
       "[169, 77, 49]"
      ]
     },
     "execution_count": 10,
     "metadata": {},
     "output_type": "execute_result"
    }
   ],
   "source": [
    "# Dynamically access current sensor values (A4, A5, A6)\n",
    "\n",
    "call(\"io.crossbar.demo.wpad.1.get_last\")[\"values\"][4:7]"
   ]
  },
  {
   "cell_type": "code",
   "execution_count": 11,
   "metadata": {
    "collapsed": false
   },
   "outputs": [
    {
     "data": {
      "text/plain": [
       "0"
      ]
     },
     "execution_count": 11,
     "metadata": {},
     "output_type": "execute_result"
    }
   ],
   "source": [
    "# Predict target var based on current sensor values\n",
    "\n",
    "values = call(\"io.crossbar.demo.wpad.1.get_last\")[\"values\"][4:7]\n",
    "clf.predict(values)[0]"
   ]
  },
  {
   "cell_type": "code",
   "execution_count": 12,
   "metadata": {
    "collapsed": false
   },
   "outputs": [
    {
     "data": {
      "text/plain": [
       "[[0.13713643327646236, -0.16962003683960686, -0.012434068567951031],\n",
       " [0.047893514375508831, 0.041754192951523814, -0.18341206653266609],\n",
       " [-0.015566010423777, 0.13253873142877359, -0.27076483550805064],\n",
       " [-0.32054414450499041, 0.13777701913796536, 0.20732446297197651]]"
      ]
     },
     "execution_count": 12,
     "metadata": {},
     "output_type": "execute_result"
    }
   ],
   "source": [
    "# Here are the model coefficients:\n",
    "\n",
    "model = [list(row) for row in clf.coef_]\n",
    "model"
   ]
  },
  {
   "cell_type": "code",
   "execution_count": 13,
   "metadata": {
    "collapsed": false
   },
   "outputs": [
    {
     "data": {
      "text/plain": [
       "5"
      ]
     },
     "execution_count": 13,
     "metadata": {},
     "output_type": "execute_result"
    }
   ],
   "source": [
    "# Upload the model coefficients\n",
    "\n",
    "call(\"io.crossbar.demo.wpad.objstore.save\", \"model\", model)"
   ]
  },
  {
   "cell_type": "code",
   "execution_count": 13,
   "metadata": {
    "collapsed": false
   },
   "outputs": [],
   "source": []
  },
  {
   "cell_type": "code",
   "execution_count": null,
   "metadata": {
    "collapsed": false
   },
   "outputs": [],
   "source": []
  }
 ],
 "metadata": {
  "kernelspec": {
   "display_name": "Python 2",
   "language": "python",
   "name": "python2"
  },
  "language_info": {
   "codemirror_mode": {
    "name": "ipython",
    "version": 2
   },
   "file_extension": ".py",
   "mimetype": "text/x-python",
   "name": "python",
   "nbconvert_exporter": "python",
   "pygments_lexer": "ipython2",
   "version": "2.7.6"
  }
 },
 "nbformat": 4,
 "nbformat_minor": 0
}
